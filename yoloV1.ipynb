{
 "cells": [
  {
   "cell_type": "code",
   "execution_count": 1,
   "id": "a26638a7-5891-4f09-be2d-e87549e21b4e",
   "metadata": {},
   "outputs": [],
   "source": [
    "import torch.nn as nn\n",
    "import torch\n",
    "from YOLOv1 import YoloV1"
   ]
  },
  {
   "cell_type": "code",
   "execution_count": 2,
   "id": "b66ab6aa-cd4b-4814-acea-42a406aa3f21",
   "metadata": {},
   "outputs": [],
   "source": [
    "def test(S=7, B=2, C = 20):\n",
    "    model = YoloV1(split_size=S, num_boxes=B, num_classes=C)\n",
    "    x = torch.randn(2, 3, 448, 448)\n",
    "    print(model(x).shape)"
   ]
  },
  {
   "cell_type": "code",
   "execution_count": 3,
   "id": "41475b03-6a06-4a1c-b0e4-fba72fc1cf33",
   "metadata": {},
   "outputs": [
    {
     "name": "stdout",
     "output_type": "stream",
     "text": [
      "torch.Size([2, 1470])\n"
     ]
    }
   ],
   "source": [
    "test()"
   ]
  },
  {
   "cell_type": "code",
   "execution_count": null,
   "id": "2ea7d58c-57a6-4163-8d40-d5cde94e04b4",
   "metadata": {},
   "outputs": [],
   "source": []
  },
  {
   "cell_type": "code",
   "execution_count": null,
   "id": "f1882d87-a39f-460e-9283-02869cffc003",
   "metadata": {},
   "outputs": [],
   "source": []
  },
  {
   "cell_type": "code",
   "execution_count": null,
   "id": "ced7c0c5-1f35-4568-b5c7-629f28017458",
   "metadata": {},
   "outputs": [],
   "source": []
  },
  {
   "cell_type": "code",
   "execution_count": null,
   "id": "21409812-7ed3-4a17-9552-859ba4a58981",
   "metadata": {},
   "outputs": [],
   "source": []
  }
 ],
 "metadata": {
  "kernelspec": {
   "display_name": "Python 3 (ipykernel)",
   "language": "python",
   "name": "python3"
  },
  "language_info": {
   "codemirror_mode": {
    "name": "ipython",
    "version": 3
   },
   "file_extension": ".py",
   "mimetype": "text/x-python",
   "name": "python",
   "nbconvert_exporter": "python",
   "pygments_lexer": "ipython3",
   "version": "3.9.6"
  }
 },
 "nbformat": 4,
 "nbformat_minor": 5
}
